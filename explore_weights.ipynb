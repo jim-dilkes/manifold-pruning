{
 "cells": [
  {
   "cell_type": "code",
   "execution_count": null,
   "metadata": {},
   "outputs": [],
   "source": [
    "import tensorflow as tf\n",
    "import numpy as np\n",
    "import os \n",
    "\n",
    "def get_names(graph=tf.get_default_graph()):\n",
    "    return [t.name for op in graph.get_operations() for t in op.values()]"
   ]
  },
  {
   "cell_type": "code",
   "execution_count": null,
   "metadata": {},
   "outputs": [],
   "source": [
    "model_dir = \"models\\\\bert-prune-30-squad\"\n",
    "# model_dir = \"models\\\\uncased-bert-prunable\"\n",
    "\n",
    "sess = tf.InteractiveSession()\n",
    "\n",
    "saver = tf.train.import_meta_graph(os.path.join(model_dir, 'model.ckpt.meta'))\n",
    "saver.restore(sess, os.path.join(model_dir, 'model.ckpt'))\n",
    "# get the graph\n",
    "g = tf.get_default_graph()\n",
    "\n",
    "\n",
    "w1 = g.get_tensor_by_name('bert/embeddings/weights/masked_weight:0')\n",
    "print(f\"Proportion masked: {np.count_nonzero(w1.eval() == 0)/np.size(w1.eval())}\")"
   ]
  }
 ],
 "metadata": {
  "language_info": {
   "name": "python"
  },
  "orig_nbformat": 4
 },
 "nbformat": 4,
 "nbformat_minor": 2
}

{
 "cells": [
  {
   "cell_type": "code",
   "execution_count": 1,
   "metadata": {},
   "outputs": [],
   "source": [
    "import json\n",
    "from sklearn.model_selection import train_test_split"
   ]
  },
  {
   "cell_type": "code",
   "execution_count": 3,
   "metadata": {},
   "outputs": [],
   "source": [
    "with open('train-v2.0.json', 'r') as f:\n",
    "    train_val_raw = json.load(f)\n",
    "\n",
    "with open('dev-v2.0.json', 'r') as f:\n",
    "    test_raw = json.load(f)\n",
    "\n"
   ]
  },
  {
   "cell_type": "code",
   "execution_count": 5,
   "metadata": {},
   "outputs": [],
   "source": [
    "train_val_qa = []\n",
    "for data in train_val_raw['data']:\n",
    "    for par in data['paragraphs']:\n",
    "        for question in par['qas']:\n",
    "            train_val_qa.append([question['question'], question['is_impossible']])\n",
    "\n",
    "test_qa = []\n",
    "for data in test_raw['data']:\n",
    "    for par in data['paragraphs']:\n",
    "        for question in par['qas']:\n",
    "            test_qa.append([question['question'], question['is_impossible']])"
   ]
  },
  {
   "cell_type": "code",
   "execution_count": 6,
   "metadata": {},
   "outputs": [
    {
     "name": "stdout",
     "output_type": "stream",
     "text": [
      "130319\n",
      "11873\n"
     ]
    }
   ],
   "source": [
    "print(len(train_val_qa))\n",
    "print(len(test_qa))"
   ]
  },
  {
   "cell_type": "code",
   "execution_count": 7,
   "metadata": {},
   "outputs": [],
   "source": [
    "\n",
    "train_qa, val_qa = train_test_split(train_val_qa, test_size=0.05, shuffle=False, random_state=999)\n"
   ]
  },
  {
   "cell_type": "code",
   "execution_count": 8,
   "metadata": {},
   "outputs": [],
   "source": [
    "for mode in ('Train', 'Test', 'Validation'):\n",
    "    file_base = mode+'_'\n",
    "    if mode == 'Train':\n",
    "        question, adversarial = zip(*train_qa)\n",
    "    if mode == 'Validation':\n",
    "        question, adversarial = zip(*val_qa)\n",
    "    if mode == 'Test':\n",
    "        question, adversarial = zip(*test_qa)\n",
    "    adversarial_copy = list(adversarial).copy()\n",
    "    adversarial = [str(adv)+'\\n' for adv in adversarial]\n",
    "    question = [q+'\\n' for q in question]\n",
    "\n",
    "    with open(mode+'/'+file_base+'QA.txt', 'w', newline='\\n') as f:\n",
    "        f.writelines(question)\n",
    "    with open(mode+'/'+file_base+'answerable.txt', 'w', newline='\\n') as f:\n",
    "        f.writelines(adversarial)\n",
    "\n",
    "    adversarial_questions = []\n",
    "    simple_questions = []\n",
    "    for q, adv in zip(question, adversarial_copy):\n",
    "        if adv:\n",
    "            adversarial_questions.append(q)\n",
    "        else:\n",
    "            simple_questions.append(q)\n",
    "    with open(mode+'/'+file_base+'QA_adversarial.txt', 'w') as f:\n",
    "        f.writelines(adversarial_questions)\n",
    "    with open(mode+'/'+file_base+'QA_simple.txt', 'w') as f:\n",
    "        f.writelines(simple_questions)\n",
    "\n",
    "\n",
    "\n"
   ]
  },
  {
   "cell_type": "code",
   "execution_count": null,
   "metadata": {},
   "outputs": [],
   "source": []
  }
 ],
 "metadata": {
  "kernelspec": {
   "display_name": "Python 3",
   "language": "python",
   "name": "python3"
  },
  "language_info": {
   "codemirror_mode": {
    "name": "ipython",
    "version": 3
   },
   "file_extension": ".py",
   "mimetype": "text/x-python",
   "name": "python",
   "nbconvert_exporter": "python",
   "pygments_lexer": "ipython3",
   "version": "3.9.16"
  },
  "orig_nbformat": 4,
  "vscode": {
   "interpreter": {
    "hash": "397704579725e15f5c7cb49fe5f0341eb7531c82d19f2c29d197e8b64ab5776b"
   }
  }
 },
 "nbformat": 4,
 "nbformat_minor": 2
}

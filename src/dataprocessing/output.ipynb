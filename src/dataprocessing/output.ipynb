{
 "cells": [
  {
   "attachments": {},
   "cell_type": "markdown",
   "metadata": {},
   "source": [
    "Jupyter Notebook that takes a list of ambiguous words, filtered from Train/Validation/Test-word_amb_entr_score.csv\n",
    "and creates a list to then use for MFMA analysis."
   ]
  },
  {
   "cell_type": "code",
   "execution_count": 1,
   "metadata": {},
   "outputs": [],
   "source": [
    "import pickle\n",
    "from tqdm import tqdm"
   ]
  },
  {
   "attachments": {},
   "cell_type": "markdown",
   "metadata": {},
   "source": [
    "[word, tag, [[word1, tag1], [word2, tag2], ..], indx, adversarial/not]"
   ]
  },
  {
   "cell_type": "markdown",
   "metadata": {},
   "source": []
  },
  {
   "cell_type": "code",
   "execution_count": 2,
   "metadata": {},
   "outputs": [
    {
     "name": "stdout",
     "output_type": "stream",
     "text": [
      "10\n"
     ]
    }
   ],
   "source": [
    "train_list_of_words = [\"associate\", \"run\", \"spread\", \"split\", \"set\", \"welcome\", \"counter\", \"cross\", \"rebel\", \"interstate\"]\n",
    "validate_list_of_words = [\"set\", \"run\", \"lead\", \"report\", \"cross\", \"north\", \"left\", \"call\", \"fall\", \"start\"]\n",
    "test_list_of_words = [\"split\", \"concentrate\", \"cut\", \"run\", \"ctenophora\", \"set\", \"travel\", \"west\", \"lead\", \"act\"]\n",
    "\n",
    "print(len(test_list_of_words))"
   ]
  },
  {
   "cell_type": "code",
   "execution_count": 3,
   "metadata": {},
   "outputs": [],
   "source": [
    "str_dict = {\"True\": True, \"False\":False}\n",
    "\n",
    "def output_file(mode, list_of_words):\n",
    "    questions = []\n",
    "    for amb_word in list_of_words:\n",
    "        with open(\"Train/Train_freq_POS.txt\", \"r\") as f:\n",
    "            lines = [line.split(\"\\n\")[0] for line in f.readlines()]\n",
    "        with open(\"Train/Train_answerable.txt\", \"r\") as f:\n",
    "            answerable = [str_dict[line.split(\"\\n\")[0]] for line in f.readlines()]  \n",
    "        for indx, line in enumerate(lines):\n",
    "            line_split = line.split(' ')\n",
    "            for token in line_split:\n",
    "                if token == \"\":\n",
    "                    continue\n",
    "                if len(w:=token.split(':')) > 2:\n",
    "                    continue\n",
    "                word, pos = w\n",
    "                if word.lower() == amb_word:\n",
    "                    tmp = [amb_word, pos, [a.split(':') for a in line_split], answerable[indx]]\n",
    "                    for idx, replace_w in enumerate(tmp[2]):\n",
    "                        if replace_w[0].lower() == amb_word:\n",
    "                            tmp[2][idx] = [amb_word, amb_word + \"^\" + tmp[2][idx][-1]]\n",
    "                    questions.append(tmp)\n",
    "    file = mode + \"/\" + mode.lower() + \"_questions_final.pkl\"\n",
    "    with open(file, 'wb') as f:\n",
    "        pickle.dump(questions, f)"
   ]
  },
  {
   "cell_type": "code",
   "execution_count": null,
   "metadata": {},
   "outputs": [],
   "source": [
    "output_file(\"Train\", train_list_of_words)\n",
    "output_file(\"Validation\", validate_list_of_words)\n",
    "output_file(\"Test\", test_list_of_words)"
   ]
  }
 ],
 "metadata": {
  "kernelspec": {
   "display_name": "NLP",
   "language": "python",
   "name": "python3"
  },
  "language_info": {
   "codemirror_mode": {
    "name": "ipython",
    "version": 3
   },
   "file_extension": ".py",
   "mimetype": "text/x-python",
   "name": "python",
   "nbconvert_exporter": "python",
   "pygments_lexer": "ipython3",
   "version": "3.10.9"
  },
  "orig_nbformat": 4,
  "vscode": {
   "interpreter": {
    "hash": "10cf916465d97e2d34dfad3237a8b45f9d727932a6a602d5b42972fb56b0de9c"
   }
  }
 },
 "nbformat": 4,
 "nbformat_minor": 2
}

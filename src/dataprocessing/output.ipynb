{
 "cells": [
  {
   "cell_type": "code",
   "execution_count": 2,
   "metadata": {},
   "outputs": [],
   "source": [
    "import pickle\n",
    "from tqdm import tqdm"
   ]
  },
  {
   "cell_type": "code",
   "execution_count": null,
   "metadata": {},
   "outputs": [],
   "source": [
    "# Write a script to load a pickle file called tt.pkl\n",
    "# and print the first 10 elements of the list"
   ]
  },
  {
   "attachments": {},
   "cell_type": "markdown",
   "metadata": {},
   "source": [
    "[word, tag, [[word1, tag1], [word2, tag2], ..], indx, adversarial/not]"
   ]
  },
  {
   "cell_type": "markdown",
   "metadata": {},
   "source": []
  },
  {
   "cell_type": "code",
   "execution_count": 1,
   "metadata": {},
   "outputs": [
    {
     "name": "stdout",
     "output_type": "stream",
     "text": [
      "10\n"
     ]
    }
   ],
   "source": [
    "train_list_of_words = [\"associate\", \"run\", \"spread\", \"split\", \"set\", \"welcome\", \"counter\", \"cross\", \"rebel\", \"interstate\"]\n",
    "validate_list_of_words = [\"set\", \"run\", \"lead\", \"report\", \"cross\", \"north\", \"left\", \"call\", \"fall\", \"start\"]\n",
    "test_list_of_words = [\"split\", \"concentrate\", \"cut\", \"run\", \"ctenophora\", \"set\", \"travel\", \"west\", \"lead\", \"act\"]\n",
    "\n",
    "print(len(train_list_of_words))"
   ]
  },
  {
   "cell_type": "code",
   "execution_count": 11,
   "metadata": {},
   "outputs": [
    {
     "name": "stderr",
     "output_type": "stream",
     "text": [
      "100%|██████████| 10/10 [00:07<00:00,  1.34it/s]\n"
     ]
    }
   ],
   "source": [
    "str_dict = {\"True\": True, \"False\":False}\n",
    "questions = []\n",
    "for amb_word in tqdm(train_list_of_words):\n",
    "    with open(\"Train/Train_freq_POS.txt\", \"r\") as f:\n",
    "        lines = [line.split(\"\\n\")[0] for line in f.readlines()]\n",
    "    with open(\"Train/Train_answerable.txt\", \"r\") as f:\n",
    "        answerable = [str_dict[line.split(\"\\n\")[0]] for line in f.readlines()]  \n",
    "    for indx, line in enumerate(lines):\n",
    "        line_split = line.split(' ')\n",
    "        for token in line_split:\n",
    "            if token == \"\":\n",
    "                continue\n",
    "            if len(w:=token.split(':')) > 2:\n",
    "                continue\n",
    "            word, pos = w\n",
    "            if word.lower() == amb_word:\n",
    "                tmp = [amb_word, pos, [a.split(':') for a in line_split], answerable[indx]]\n",
    "                for idx, replace_w in enumerate(tmp[2]):\n",
    "                    if replace_w[0].lower() == amb_word:\n",
    "                        tmp[2][idx] = [amb_word, amb_word + \"^\" + tmp[2][idx][-1]]\n",
    "                questions.append(tmp)"
   ]
  },
  {
   "cell_type": "code",
   "execution_count": 23,
   "metadata": {},
   "outputs": [],
   "source": [
    " \n"
   ]
  },
  {
   "cell_type": "markdown",
   "metadata": {},
   "source": []
  },
  {
   "cell_type": "code",
   "execution_count": 16,
   "metadata": {},
   "outputs": [],
   "source": [
    "with open('train_questions_final.pkl', 'wb') as f:\n",
    "    pickle.dump(questions, f)"
   ]
  },
  {
   "cell_type": "code",
   "execution_count": 2,
   "metadata": {},
   "outputs": [],
   "source": [
    "import pickle"
   ]
  },
  {
   "cell_type": "code",
   "execution_count": 12,
   "metadata": {},
   "outputs": [
    {
     "name": "stdout",
     "output_type": "stream",
     "text": [
      "\u001b[34mTagging\u001b[m\u001b[m\n",
      "\u001b[34mTest\u001b[m\u001b[m\n",
      "\u001b[34mTrain\u001b[m\u001b[m\n",
      "\u001b[34mValidation\u001b[m\u001b[m\n",
      "analyse_data.ipynb\n",
      "associate.pkl\n",
      "cardinal.pkl\n",
      "create_dict.py\n",
      "formated_questions.txt\n",
      "freq.py\n",
      "gen_data.ipynb\n",
      "get_ambiguous_words.py\n",
      "output.ipynb\n",
      "pos_final.txt\n",
      "train_high_freq_questions_final.pkl\n",
      "train_high_freq_questions_final_no_amb.pkl\n",
      "train_questions_final.pkl\n"
     ]
    }
   ],
   "source": [
    "!ls"
   ]
  },
  {
   "cell_type": "code",
   "execution_count": 15,
   "metadata": {},
   "outputs": [
    {
     "name": "stdout",
     "output_type": "stream",
     "text": [
      "associate {'JJ', 'NNP', 'NN', 'VBP', 'VB'}\n",
      "run {'JJ', 'VBD', 'NNP', 'NN', 'VB', 'VBP', 'VBN'}\n",
      "spread {'VBD', 'NNP', 'NN', 'VB', 'VBP', 'VBN'}\n",
      "split {'VBD', 'NNP', 'NN', 'VB', 'VBN'}\n",
      "set {'JJ', 'VBD', 'NNP', 'NN', 'VB', 'VBN'}\n",
      "welcome {'JJ', 'NNP', 'NN', 'VB', 'VBP'}\n",
      "counter {'JJ', 'NNP', 'NN', 'VB', 'VBP', 'RB'}\n",
      "cross {'JJ', 'NNP', 'NN', 'VB', 'VBP'}\n",
      "rebel {'JJ', 'VBD', 'NNP', 'NN', 'VB'}\n",
      "interstate {'JJ', 'NNP', 'NN', 'VB', 'VBP'}\n"
     ]
    }
   ],
   "source": [
    "file = pickle.load(open('train_questions_final.pkl', 'rb'))\n",
    "\n",
    "\n",
    "amb_words = {}\n",
    "for line in file:\n",
    "    if line[0] not in amb_words.keys():\n",
    "        amb_words[line[0]] = [line[1]]\n",
    "    else:\n",
    "        amb_words[line[0]].append(line[1])\n",
    "\n",
    "for key in amb_words.keys():\n",
    "    print(key, set(amb_words[key]))"
   ]
  },
  {
   "cell_type": "markdown",
   "metadata": {},
   "source": []
  },
  {
   "cell_type": "code",
   "execution_count": 51,
   "metadata": {},
   "outputs": [
    {
     "name": "stdout",
     "output_type": "stream",
     "text": [
      "Whether one partakes in practices or beliefs , the label Christian is sometimes attached because they associate with what ? \t IN CD VBZ IN NNS CC NNS , DT NN NNP VBZ RB VBN IN PRP associate^VBP IN WP .\n",
      "WHn did the knightly genealogiae associate with heraldic devices ? \t NNP VBD DT RB NNS associate^VBP IN JJ NNS .\n",
      "What name did the record companies associate with MP3 file sharing ? \t WDT NN VBD DT NN NNS associate^VBP IN NN NN NN .\n",
      "A marker that people are ready and willing to associate with is what kind of boundary ? \t DT NN WDT NNS VBP JJ CC JJ TO associate^VB IN VBZ WP NN IN JJ .\n",
      "The direction of what is achieved by group choice regarding who and what to associate with ? \t DT NN IN WP VBZ VBN IN NN NN VBG WP CC WP TO associate^VB IN .\n",
      "Do adolescents associate with \" cliques \" on a large or small scale ? \t VB NNS associate^VB IN `` NNS '' IN DT JJ CC JJ NN .\n",
      "Do adolescents associate with \" crowds \" on a large or small scale ? \t VB NNS associate^VB IN `` NNS '' IN DT JJ CC JJ NN .\n",
      "Why did Britain not want Elizabeth to associate with conscientious objectors ? \t WRB VBD NNP RB VB NNP TO associate^VB IN JJ NNS .\n",
      "Which denomination is the Korean associate Reformed Church in Hanover ? \t WDT NN VBZ DT NNP associate^NNP NNP NNP IN NNP .\n",
      "When was the associate Reformed Presbyterian Church in Mexico formed ? \t WRB VBD DT associate^NNP NNP NNP NNP IN NNP VBD .\n",
      "In what year was the associate Reformed National Church formed ? \t IN WDT NN VBD DT associate^NNP NNP NNP NNP VBD .\n",
      "What have people come to associate the broader community with ? \t WP VBP NNS VB TO associate^VB DT JJR NN IN .\n",
      "Which laws did the corporations in the South associate with in order to ignore the federal recommendations ? \t WDT NNS VBD DT NNS IN DT NNP associate^NN IN IN NN TO VB DT JJ NNS .\n",
      " Which laws did the corporations in the North associate with in order to ignore the federal recommendations ? \t _SP WDT NNS VBD DT NNS IN DT NNP associate^NN IN IN NN TO VB DT JJ NNS .\n",
      "With what religious movement do many Puerto Ricans in New Haven associate ? \t IN WDT JJ NN VBP JJ NNP NNPS IN NNP NNP associate^NN .\n",
      "What type of music did critics associate with corrupt high culture ? \t WDT NN IN NN VBD NNS associate^VBP IN JJ JJ NN .\n",
      "What type of music did critics associate with respected high culture ? \t WDT NN IN NN VBD NNS associate^VBP IN JJ JJ NN .\n",
      "What did Popper associate with noble means ? \t WP VBD NNP associate^NN IN JJ NNS .\n",
      "What mandolin is associate with Bluegrass music ? \t WP NNP VBZ associate^JJ IN NNP NN .\n",
      "What style is associate with other types of music ? \t WDT NN VBZ associate^JJ IN JJ NNS IN NN .\n",
      "What party does Patrick Ollier associate with ? \t WDT NN VBZ NNP NNP associate^VB IN .\n",
      "Why do Europeans associate green with health ? \t WRB VBP NNPS associate^VB JJ IN NN .\n",
      "What ethnic names does Serbo - Croatian associate with ? \t WP JJ NNS VBZ NNP HYPH NNP associate^NN IN .\n",
      "What aesthetic did Matthew Bannister associate with post - punk ? \t WP JJ VBD NNP NNP associate^NN IN NN NN NN .\n",
      "What aesthetic did Mathew Bannister associate with punk ? \t WP JJ VBD NNP NNP associate^NN IN NN .\n",
      "What aesthetic did Matthew Bannister not associate with post - punk ? \t WP JJ VBD NNP NNP RB associate^JJ IN NN NN NN .\n",
      "With whom did the  early Romans expect to associate ? \t IN WP VBD DT _SP JJ NNPS VBP TO associate^VB .\n",
      "{'associate^NN', '_SP', 'NNPS', 'associate^VB', 'CD', 'associate^VBP', 'associate^JJ', 'NNP', 'VBG', 'PRP', 'associate^NNP', 'CC', '.', 'VBZ', 'RB', 'TO', 'WRB', 'JJR', 'VB', '``', 'VBP', 'WP', 'WDT', 'VBD', 'HYPH', 'NN', 'IN', \"''\", 'NNS', 'JJ', ',', 'VBN', 'DT'}\n",
      "33\n"
     ]
    }
   ],
   "source": [
    "pos_tags = []\n",
    "for sentence in mynewlist:\n",
    "    s = sentence[2]\n",
    "    s1, s2 = [], []\n",
    "    for word in s:\n",
    "        if len(word) == 1:\n",
    "            continue\n",
    "        s1.append(word[0])\n",
    "        s2.append(word[1])\n",
    "    print(' '.join(s1), \"\\t\", ' '.join(s2))\n",
    "    pos_tags.extend(s2)\n",
    "print(set(pos_tags))\n",
    "print(len(set(pos_tags)))"
   ]
  },
  {
   "cell_type": "code",
   "execution_count": 23,
   "metadata": {},
   "outputs": [
    {
     "name": "stdout",
     "output_type": "stream",
     "text": [
      "{'NNP', 'JJ', 'NN'}\n"
     ]
    }
   ],
   "source": [
    "print(set([x[1]for  x in mynewlist]))"
   ]
  },
  {
   "cell_type": "code",
   "execution_count": null,
   "metadata": {},
   "outputs": [],
   "source": [
    "'VBP', 'WP', 'WDT', 'VBD', 'PRP$', 'HYPH', 'NN', 'IN', 'AFX', 'NNS', 'JJ', 'VBN', 'DT', 'cardinal^JJ', 'cardinal^NN', 'cardinal^NNP'"
   ]
  },
  {
   "attachments": {},
   "cell_type": "markdown",
   "metadata": {},
   "source": [
    "What Latin word does cardinal come from\n",
    "WP JP NN VBZ JJ VB IN \n",
    "WP JP NN VBZ NN VB IN \n",
    "Which church still holds on to the original meaning of cardinal from the above Latin word \n",
    "WFT NN RB VBZ IN IN DT JJ NN IN DT JJ JJ NN\n",
    "\n",
    "What year did the ruling only cardinal was eligible to become pope come in effect\n",
    "WFT NN VBD DT NN RB DT NN VBD JJ TO VB NN VB IN NN "
   ]
  },
  {
   "cell_type": "code",
   "execution_count": 12,
   "metadata": {},
   "outputs": [
    {
     "name": "stdout",
     "output_type": "stream",
     "text": [
      "{'NNP', 'JJ', 'NN'}\n"
     ]
    }
   ],
   "source": [
    "tmp = []\n",
    "for x in mynewlist:\n",
    "    tmp.append(x[1])\n",
    "print(set(tmp))"
   ]
  },
  {
   "cell_type": "code",
   "execution_count": null,
   "metadata": {},
   "outputs": [],
   "source": []
  }
 ],
 "metadata": {
  "kernelspec": {
   "display_name": "NLP",
   "language": "python",
   "name": "python3"
  },
  "language_info": {
   "codemirror_mode": {
    "name": "ipython",
    "version": 3
   },
   "file_extension": ".py",
   "mimetype": "text/x-python",
   "name": "python",
   "nbconvert_exporter": "python",
   "pygments_lexer": "ipython3",
   "version": "3.11.0"
  },
  "orig_nbformat": 4,
  "vscode": {
   "interpreter": {
    "hash": "10cf916465d97e2d34dfad3237a8b45f9d727932a6a602d5b42972fb56b0de9c"
   }
  }
 },
 "nbformat": 4,
 "nbformat_minor": 2
}

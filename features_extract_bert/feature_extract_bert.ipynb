{
 "cells": [
  {
   "cell_type": "code",
   "execution_count": null,
   "metadata": {},
   "outputs": [],
   "source": [
    "import pickle as pkl\n",
    "import json"
   ]
  },
  {
   "cell_type": "code",
   "execution_count": null,
   "metadata": {},
   "outputs": [],
   "source": [
    "python bert/extract_features.py --init_checkpoint bert/models/bert-prune-30-squad --output_file ./bert/bert-prune-30-squad-OUTPUTS/features_test.json --bert_config_file ./bert/models/bert-prune-30-squad/bert_config.json --vocab_file ./bert/models/bert-prune-30-squad/vocab.txt --max_seq_length 128 --input_file ./bert/data/test_inputs/test.tsv --layers 1,2,3,4,5,6,7,8,9,10,11,12 --do_lower_case"
   ]
  },
  {
   "cell_type": "code",
   "execution_count": null,
   "metadata": {},
   "outputs": [],
   "source": [
    "model_dir = \n"
   ]
  },
  {
   "cell_type": "code",
   "execution_count": null,
   "metadata": {},
   "outputs": [],
   "source": [
    "\n",
    "filepath = \"bert-prune-30-squad-OUTPUTS/features_test.json\"\n",
    "features_jsons = []\n",
    "with open(filepath, 'r') as fp:\n",
    "    for line in fp:\n",
    "        features_jsons.append(json.loads(line))"
   ]
  },
  {
   "cell_type": "code",
   "execution_count": null,
   "metadata": {},
   "outputs": [],
   "source": [
    "features_jsons[i]['features'][j]['layers'][k]['values']\n",
    "# i = example\n",
    "# j = token\n",
    "# k = layer"
   ]
  },
  {
   "cell_type": "code",
   "execution_count": null,
   "metadata": {},
   "outputs": [],
   "source": [
    "# load pickle file ./data/train_questions_final.pkl\n",
    "train_questions = pkl.load(open('./data/train_questions_final.pkl', 'rb'))\n",
    "train_questions"
   ]
  }
 ],
 "metadata": {
  "language_info": {
   "name": "python"
  },
  "orig_nbformat": 4
 },
 "nbformat": 4,
 "nbformat_minor": 2
}
